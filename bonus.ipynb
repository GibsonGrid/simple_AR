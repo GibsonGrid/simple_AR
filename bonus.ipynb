{
 "cells": [
  {
   "cell_type": "markdown",
   "metadata": {},
   "source": [
    "Bonus Task by **Your name**"
   ]
  },
  {
   "cell_type": "markdown",
   "metadata": {},
   "source": [
    "# Augmented reality on your knees 🤔"
   ]
  },
  {
   "cell_type": "markdown",
   "metadata": {},
   "source": [
    "---"
   ]
  },
  {
   "cell_type": "markdown",
   "metadata": {},
   "source": [
    "# Problem 1. Animated .obj model in AR (15 pts.)"
   ]
  },
  {
   "cell_type": "markdown",
   "metadata": {},
   "source": [
    "<div style=\"text-align: center;\">\n",
    "    <video width=\"50%\" height=\"50%\" controls>\n",
    "        <source src=\"./utils/obj_animation.mp4\">\n",
    "    </video>\n",
    "</div>"
   ]
  },
  {
   "cell_type": "markdown",
   "metadata": {},
   "source": [
    "Use the same idea as in `seminar.ipynb`, but make projective transformation of some animated `.obj` model.\n",
    "1. Download [Blender](https://www.blender.org/download/).\n",
    "2. Download `.fbx` or `.obj` model you like [here](https://sketchfab.com/tags/obj) (with human-like armature, like [this](https://sketchfab.com/3d-models/the-amazing-spider-man-2-spider-man-def66432d0434cceb2e2ad260a94b5af), [this](https://sketchfab.com/3d-models/iron-man-mark-85-rigged-dde1085c464d4f8da259fe6669ae4dd2#download) or [this](https://sketchfab.com/3d-models/spider-gwen-marvel-ultimate-alliance-3-9c7cb4de8f5c4c33ba31a07023548fea)). **Please do not use the Spider-Man, Iron-Man and Gwen Stacy characters provided in the links, instead try to find something that suits you best and do not repeat the models provided.**\n",
    "3. `.obj` does not contain texture information, while `fbx` does. Still, we are not interested in texture as far we are not able to render it inside openCV, so do not be frustrated if your model is gray (without texture, colour, etc.).\n",
    "4. Use [Mixamo](https://www.mixamo.com/#/) to apply animation to your `.fbx` or `.obj` model, export it in `.fbx` with skin.\n",
    "5. Import `.fbx` model to Blender.\n",
    "6. Decrease number of faces using `decimate` in `Modifiers`. \n",
    "<div style=\"text-align: center;\">\n",
    "    <img src=\"./utils/blender_decimate.png\" width=\"30%\" height=\"30%\">\n",
    "</div>\n",
    "\n",
    "7. Export `.obj` models for each keyframe in `./data/obj/{your}_objs` from Blender.\n",
    "8. Use `trimesh` to load animated model (faces and vertices) and save faces and vertices to `pckl` in `./data/obj` **(1 pts.)**.\n",
    "9. [Rotate](https://murundb.github.io/kinematics/rotations/rotation_matrix/#definition) mesh vertices with rotation martices to make model 'standing' on the marker (`rotate_mesh` function in `utils.py`) **(2 pts.)**.\n",
    "10. Scale animated model vertices (e.g. `model_vertices = vertices * 0.01`) **(1 pts.)**.\n",
    "11. Implement projective transformation function `project_points_manual` in `utils.py` from scratch and compare with `cv2.projectPoints` (refer to hints below in case of difficulties) **(8 pts.)**.\n",
    "12. No need to develop some rendering methodology, just use `cv2` instruments to visualize mesh (e.g. `cv2.circle` or `cv2.polyines`) **(2 pts.)**.\n",
    "13. Visualize fps on frame **(1 pts.)**.\n",
    "14. Name your script `7_bonus.py`."
   ]
  },
  {
   "cell_type": "markdown",
   "metadata": {},
   "source": [
    "**Example output**\n",
    "<div style=\"text-align: center;\">\n",
    "    <video width=\"100%\" height=\"100%\" controls>\n",
    "        <source src=\"./utils/6_bonus_demo.mp4\">\n",
    "    </video>\n",
    "    <p>Animated .obj model of spider-man making flair on aruco marker</p>\n",
    "</div>"
   ]
  },
  {
   "cell_type": "markdown",
   "metadata": {},
   "source": [
    "**Requirements for the report**\n",
    "\n",
    "1. Record video with your solution.\n",
    "2. Send archive with your code, including calibration data and video to Canvas (simply copy repository with your solution, do not forget to put **Your name** in the beginning of each `.ipynb`)."
   ]
  }
 ],
 "metadata": {
  "kernelspec": {
   "display_name": "AR",
   "language": "python",
   "name": "python3"
  },
  "language_info": {
   "codemirror_mode": {
    "name": "ipython",
    "version": 3
   },
   "file_extension": ".py",
   "mimetype": "text/x-python",
   "name": "python",
   "nbconvert_exporter": "python",
   "pygments_lexer": "ipython3",
   "version": "3.9.21"
  }
 },
 "nbformat": 4,
 "nbformat_minor": 2
}
