{
 "cells": [
  {
   "cell_type": "markdown",
   "metadata": {},
   "source": [
    "Seminar by Nikita Ligostaev"
   ]
  },
  {
   "cell_type": "markdown",
   "metadata": {},
   "source": [
    "# Augmented reality on your knees 👨‍💻"
   ]
  },
  {
   "cell_type": "markdown",
   "metadata": {},
   "source": [
    "---"
   ]
  },
  {
   "cell_type": "markdown",
   "metadata": {},
   "source": [
    "## Projective transformation theory"
   ]
  },
  {
   "cell_type": "markdown",
   "metadata": {},
   "source": [
    "### What are homogenous coordinates?"
   ]
  },
  {
   "cell_type": "markdown",
   "metadata": {},
   "source": [
    "Most of the time when working with 3D, we are thinking in terms of Euclidean geometry – that is, coordinates in three-dimensional space ($x, y$, and $z$). However, there are certain situations where it is useful to think in terms of projective geometry instead. Projective geometry has an extra dimension, called $w$, in addition to the $x, y$, and $z$ dimensions. This four-dimensional space is called `projective space`, and coordinates in projective space are called `homogeneous coordinates`.\n",
    "\n",
    "**The main convenience is that everything can be expressed by a linear operation.**\n",
    "\n",
    "In homogeneous coordinates, a point in three-dimensional space is represented by four numbers $(x,y,z,w)^*$, where $w$ is a weighting factor. In Cartesian coordinates it corresponds to a point:\n",
    "$$\\begin{gather}  \n",
    "\\left(\\frac {x}{w}, \\frac {y}{w}, \\frac {z}{w}\\right) \\notag{}\n",
    "\\end{gather}$$\n",
    "\n",
    "\\* - Quaternions look a lot like homogeneous coordinates. Both are 4D vectors, commonly depicted as $(x,y,z,w)$. However, quaternions and homogeneous coordinates are different concepts, with different uses."
   ]
  },
  {
   "cell_type": "markdown",
   "metadata": {},
   "source": [
    "**2D analogy**"
   ]
  },
  {
   "cell_type": "markdown",
   "metadata": {},
   "source": [
    "Imagine a projector that is projecting a 2D image onto a screen. It’s easy to identify the $x_s$ and $y_s$ dimensions of the projected image. Moreover, if you step back from the 2D image and look at the projector and the screen, you can see the $w$ dimension.\n",
    "\n",
    "**The $w$ dimension is the distance from the projector to the screen.**"
   ]
  },
  {
   "cell_type": "markdown",
   "metadata": {},
   "source": [
    "<div style=\"text-align: center;\">\n",
    "    <img src=\"./utils/2d_analogy.png\" width=\"60%\" height=\"60%\">\n",
    "</div>"
   ]
  },
  {
   "cell_type": "markdown",
   "metadata": {},
   "source": [
    "So what does the $w$ dimension do, exactly? If you move the projector closer to the screen, the whole 2D image becomes smaller. If you move the projector away from the screen, the 2D image becomes larger. \n",
    "\n",
    "**As you can see, the value of $w$ affects the size (scale) of the image.**"
   ]
  },
  {
   "cell_type": "markdown",
   "metadata": {},
   "source": [
    "<div style=\"text-align: center;\">\n",
    "    <img src=\"./utils/scale.png\" width=\"100%\" height=\"100%\">\n",
    "</div>"
   ]
  },
  {
   "cell_type": "markdown",
   "metadata": {},
   "source": [
    "**Applying to 3D**"
   ]
  },
  {
   "cell_type": "markdown",
   "metadata": {},
   "source": [
    "There is no such thing as a 3D projector (yet), so it’s harder to imagine projective geometry in 3D, but the $w$ value works exactly the same as it does in 2D. When $w$ increases, the coordinate expands (scales up). When 𝑊 decreases, the coordinate shrinks (scales down). **The $w$ is basically a scaling transformation for the 3D coordinate.**"
   ]
  },
  {
   "cell_type": "markdown",
   "metadata": {},
   "source": [
    "The usual advice for 3D programming beginners is to always set $w=1$. The reason for this is that when you scale a coordinate by 1 it doesn’t shrink or grow, it just stays the same size. So, when $w=1$ it has no effect on the $X,Y$ or $Z$ values."
   ]
  },
  {
   "cell_type": "markdown",
   "metadata": {},
   "source": [
    "## Step-by-step projective transformation"
   ]
  },
  {
   "cell_type": "markdown",
   "metadata": {},
   "source": [
    "$$\\begin{gather}    \n",
    "    \\text{Image in pixels} \\quad \\xleftarrow{\\text{Intrinsics } \\mathbf{K}} \\quad \\text{Camera} \\quad \\xleftarrow{\\text{Extrinsics } [\\mathbf{R}|t]} \\quad \\text{World point} \\notag{}\n",
    "\\end{gather}$$"
   ]
  },
  {
   "cell_type": "markdown",
   "metadata": {},
   "source": [
    "<div style=\"text-align: center;\">\n",
    "    <img src=\"./utils/pinhole.png\" width=\"100%\" height=\"100%\">\n",
    "</div>"
   ]
  },
  {
   "cell_type": "markdown",
   "metadata": {},
   "source": [
    "\n",
    "$$\\begin{gather}  \n",
    "    \\mathbb{R}^3 \\rightarrow \\mathbb{R}^2 \\notag{}\\\\\n",
    "    p \\sim P\\\\\n",
    "    \\frac{x_s}{x_c} = \\frac{y_s}{y_c} = \\frac{f}{z_c} = w\n",
    "\\end{gather}$$"
   ]
  },
  {
   "cell_type": "markdown",
   "metadata": {},
   "source": [
    "**Transformation from image points to pixel coordinates in pinhole camera model**\n",
    "\n",
    "From triangles projections $Ocp$ and $OP^{\\prime}P$ on $X_c Z_c$ and $X_c Y_c$, respectively:\n",
    "$$\\begin{gather}    \n",
    "    \\frac{z_c}{f} = \\frac{x_c}{x_s} \\quad \\Rightarrow \\quad x_s = f\\frac{x_c}{z_c} \\tag{3}\\\\\n",
    "    \\frac{z_c}{f} = \\frac{y_c}{y_s} \\quad \\Rightarrow \\quad y_s = f\\frac{y_c}{z_c} \\notag{}\\\\\n",
    "\\end{gather}$$\n",
    "\n",
    "The principle of triangle similarity relates homogeneous and Cartesian coordinates:\n",
    "$$\\begin{gather}  \n",
    "    \\begin{bmatrix}\n",
    "        x_s\\\\\n",
    "        y_s\\\\\n",
    "        1\n",
    "    \\end{bmatrix} = \\frac{1}{z_c}\n",
    "    \\begin{bmatrix}\n",
    "        f & 0 & 0\\\\\n",
    "        0 & f & 0\\\\\n",
    "        0 & 0 & 1\n",
    "    \\end{bmatrix} \n",
    "    \\begin{bmatrix}\n",
    "        x_c\\\\\n",
    "        y_c\\\\\n",
    "        z_c\n",
    "    \\end{bmatrix} \\tag{4}\n",
    "\\end{gather}$$\n",
    "\n",
    "$$\\begin{gather} \n",
    "    \\begin{bmatrix}\n",
    "        x_s\\\\\n",
    "        y_s\\\\\n",
    "        1\n",
    "    \\end{bmatrix}\n",
    "    \\sim \\begin{bmatrix}\n",
    "        f & 0 & 0\\\\\n",
    "        0 & f & 0\\\\\n",
    "        0 & 0 & 1\n",
    "    \\end{bmatrix} \n",
    "    \\begin{bmatrix}\n",
    "        x_c\\\\\n",
    "        y_c\\\\\n",
    "        z_c\n",
    "    \\end{bmatrix} \\tag{5}\n",
    "\\end{gather}$$\n",
    "\n",
    "The optical centre and $Z$ axis of the camera should intersect at the origin of the image coordinates at ($c_x, c_y$) (principle point). However, there are exceptions, for example, if the sensor has moved or the lens has been distorted. A slight misalignment of $\\gamma$ between the $x$ and $y$ axes of the camera sensor is also possible:\n",
    "$$\\begin{gather} \n",
    "    \\mathbf{K} = \\begin{bmatrix}\n",
    "        f & 0 & 0\\\\\n",
    "        0 & f & 0\\\\\n",
    "        0 & 0 & 1\n",
    "    \\end{bmatrix} \\quad \\Rightarrow \\quad \\mathbf{K} = \\begin{bmatrix}\n",
    "        f_x & \\gamma & c_x\\\\\n",
    "        0 & f_y & c_y\\\\\n",
    "        0 & 0 & 1\n",
    "    \\end{bmatrix} \\tag{7}\\\\\n",
    "\n",
    "    \\begin{bmatrix}\n",
    "        x_s\\\\\n",
    "        y_s\\\\\n",
    "        1\n",
    "    \\end{bmatrix} = \n",
    "    \\begin{bmatrix}\n",
    "        f_x & \\gamma & c_x\\\\\n",
    "        0 & f_y & c_y\\\\\n",
    "        0 & 0 & 1\n",
    "    \\end{bmatrix} \n",
    "    \\begin{bmatrix}\n",
    "        x_c\\\\\n",
    "        y_c\\\\\n",
    "        z_c\n",
    "    \\end{bmatrix} \\tag{8}\\\\\n",
    "\n",
    "    x_s = f_x x_c + \\gamma y_c + c_x \\tag{9}\\\\\n",
    "    y_s = f_y y_c + c_y \\notag{}\n",
    "\n",
    "\\end{gather}$$"
   ]
  },
  {
   "cell_type": "markdown",
   "metadata": {},
   "source": [
    "**Camera intrinsics** [(demo)](https://ksimek.github.io/2012/08/22/extrinsic/)\n",
    "$$\\begin{align}  \n",
    "    \\mathbf{K} = \\begin{bmatrix}\n",
    "        f_x & \\gamma & c_x\\\\\n",
    "        0 & f_y & c_y \\\\\n",
    "        0 & 0 & 1\n",
    "    \\end{bmatrix} = \n",
    "    \\underbrace{\\begin{bmatrix}\n",
    "        1 & 0 & c_x\\\\\n",
    "        0 & 1 & c_y \\\\\n",
    "        0 & 0 & 1\n",
    "    \\end{bmatrix}}_{\\text{2D translation}}\n",
    "    \\underbrace{\\begin{bmatrix}\n",
    "        f_x & 0 & c_x\\\\\n",
    "        0 & f_y & c_y \\\\\n",
    "        0 & 0 & 1\n",
    "    \\end{bmatrix}}_{\\text{2D scaling}} \n",
    "    \\underbrace{\\begin{bmatrix}\n",
    "        1 & \\frac{\\gamma}{f_x} & 0\\\\\n",
    "        0 & 1 & 0 \\\\\n",
    "        0 & 0 & 1\n",
    "    \\end{bmatrix}}_{\\text{2D shear}} \\tag{10}\n",
    "\\end{align}$$"
   ]
  },
  {
   "cell_type": "markdown",
   "metadata": {},
   "source": [
    "**Camera extrinsics** [(demo)](https://ksimek.github.io/2012/08/22/extrinsic/)\n",
    "$$\\begin{gather}      \n",
    "    \\begin{bmatrix}\n",
    "        \\hat{x_c}\\\\\n",
    "        \\hat{y_c}\\\\\n",
    "        \\hat{z_c}\n",
    "    \\end{bmatrix} = \\begin{bmatrix}\n",
    "        \\mathbf{R} | t \n",
    "    \\end{bmatrix} \\begin{bmatrix}\n",
    "        x_w\\\\\n",
    "        y_w\\\\\n",
    "        z_w\\\\\n",
    "        1\n",
    "    \\end{bmatrix} = \\begin{bmatrix}\n",
    "        r_{11} & r_{12} & r_{13} & t_1\\\\\n",
    "        r_{21} & r_{22} & r_{23} & t_2\\\\\n",
    "        r_{31} & r_{32} & r_{33} & t_3\n",
    "    \\end{bmatrix} \\begin{bmatrix}\n",
    "        x_w\\\\\n",
    "        y_w\\\\\n",
    "        z_w\\\\\n",
    "        1\n",
    "    \\end{bmatrix} = \\begin{bmatrix}\n",
    "        r_{11} x_w + r_{12} y_w + r_{13} z_w + t_1\\\\\n",
    "        r_{21} x_w + r_{22} y_w + r_{23} z_w + t_2\\\\\n",
    "        r_{31} x_w + r_{32} y_w + r_{33} z_w + t_3\n",
    "    \\end{bmatrix} = \\mathbf{R} \\begin{bmatrix}\n",
    "        x_w\\\\\n",
    "        y_w\\\\\n",
    "        z_w\n",
    "    \\end{bmatrix} + t \\tag{11}\\\\\n",
    "\n",
    "    x_c = \\frac{\\hat{x_c}}{\\hat{z_c}} \\tag{12}\\\\\n",
    "    y_c = \\frac{\\hat{y_c}}{\\hat{z_c}} \\notag{}\n",
    "\\end{gather}$$"
   ]
  },
  {
   "cell_type": "markdown",
   "metadata": {},
   "source": [
    "**3D world to 2D screen mapping**\n",
    "$$\\begin{gather}      \n",
    "    \\begin{bmatrix}\n",
    "        \\hat{x_s}\\\\\n",
    "        \\hat{y_s}\\\\\n",
    "        \\hat{z_s}\n",
    "    \\end{bmatrix} = \\mathbf{K} \\begin{bmatrix}\n",
    "        \\mathbf{R} | t \n",
    "    \\end{bmatrix} \\begin{bmatrix}\n",
    "        x_w\\\\\n",
    "        y_w\\\\\n",
    "        z_w\\\\\n",
    "        1\n",
    "    \\end{bmatrix} = \\begin{bmatrix}\n",
    "        f_x & \\gamma & c_x\\\\\n",
    "        0 & f_y & c_y \\\\\n",
    "        0 & 0 & 1\n",
    "    \\end{bmatrix} \\begin{bmatrix}\n",
    "        \\hat{x_c}\\\\\n",
    "        \\hat{y_c}\\\\\n",
    "        \\hat{z_c}\n",
    "    \\end{bmatrix} = \\begin{bmatrix}\n",
    "        f_x \\hat{x_c} + \\gamma \\hat{y_c} + c_x \\hat{z_c}\\\\\n",
    "        f_y \\hat{y_c} + c_y \\hat{z_c} \\\\\n",
    "        \\hat{z_c}\n",
    "    \\end{bmatrix} = \n",
    "    \\hat{z_c} \\begin{bmatrix}\n",
    "        \\frac{f_x x_c}{\\hat{z_c}} + \\frac{\\gamma y_c}{\\hat{z_c}} + c_x \\\\\n",
    "        \\frac{f_y y_c}{\\hat{z_c}} + c_y \\\\\n",
    "        1\n",
    "    \\end{bmatrix} \\tag{13}\\\\\n",
    "\n",
    "    x_s = \\frac{\\hat{x_s}}{\\hat{z_s}} = \\frac{f_x \\hat{x_c} + \\gamma \\hat{y_c} + c_x \\hat{z_c}}{\\hat{z_c}} \\tag{14}\\\\\n",
    "    y_s = \\frac{\\hat{y_s}}{\\hat{z_s}} = \\frac{f_y \\hat{y_c} + c_y \\hat{z_c}}{\\hat{z_c}} \\notag{}\n",
    "\\end{gather}$$\n",
    "\n",
    "Finally:\n",
    "$$\\begin{gather}  \n",
    "    x_s = \\frac{f_x \\hat{x_c} + \\gamma \\hat{y_c} + c_x \\hat{z_c}}{\\hat{z_c}} = f_x x_c + \\gamma y_c + c_x \\tag{15}\\\\\n",
    "    y_s = \\frac{f_y \\hat{y_c} + c_y \\hat{z_c}}{\\hat{z_c}} = f_y y_c + c_y \\notag{}\n",
    "\\end{gather}$$"
   ]
  },
  {
   "cell_type": "markdown",
   "metadata": {},
   "source": [
    "**Lens/camera distortion**\n",
    "\n",
    "Radial distortion:\n",
    "$$\\begin{gather}  \n",
    "    r^2=x_c^2+y_c^2  \\tag{16}\\\\\n",
    "    L_r(x_c,y_c)=1+k_1r^2+k_2r^4+k_3r^6\n",
    "    \\begin{bmatrix} \n",
    "    x_c\\\\\n",
    "    y_c\n",
    "    \\end{bmatrix} \\tag{17}\n",
    "\\end{gather}$$\n",
    "\n",
    "Tangential distortion:\n",
    "$$\\begin{gather}\n",
    "    L_t(x_c,y_c)=\n",
    "    \\begin{bmatrix} \n",
    "    2p_1x_cy_c+p_2(r^2+2x_c^2)\\\\\n",
    "    p_1(r^2+2y_c^2)+2p_2x_cy_c\n",
    "    \\end{bmatrix} \\tag{18}\\\\\n",
    "\\end{gather}$$\n",
    "\n",
    "Lens distortion correction:\n",
    "$$\\begin{gather} \n",
    "    L(x_c,y_c)=L_r(x_c,y_c)+L_t(x_c,y_c) \\tag{19}\n",
    "\\end{gather}$$\n",
    "\n",
    "$$\\begin{gather}\n",
    "    L(x_c,y_c) = x_d, y_d \\tag{20}\\\\\n",
    "\\end{gather}$$"
   ]
  },
  {
   "cell_type": "markdown",
   "metadata": {},
   "source": [
    "From (15) and (20) lens distortion correction is:\n",
    "$$\\begin{gather} \n",
    "    x_s = f_x x_d + \\gamma y_d + c_x \\tag{21}\\\\\n",
    "    y_s = f_y y_d + c_y \\notag{}\n",
    "\\end{gather}$$ "
   ]
  },
  {
   "cell_type": "markdown",
   "metadata": {},
   "source": [
    "---"
   ]
  },
  {
   "cell_type": "markdown",
   "metadata": {},
   "source": [
    "# Problem 1. Camera calibration (15 pts.)"
   ]
  },
  {
   "cell_type": "markdown",
   "metadata": {},
   "source": [
    "<div style=\"text-align: center;\">\n",
    "    <img src=\"./utils/zhang.png\" alt=\"Компьютер\" width=\"100\" height=\"100\">\n",
    "</div>"
   ]
  },
  {
   "cell_type": "markdown",
   "metadata": {},
   "source": [
    "### Task 1. Prepare data"
   ]
  },
  {
   "cell_type": "markdown",
   "metadata": {},
   "source": [
    "1. Open pattern [generator](https://calib.io/pages/camera-calibration-pattern-generator) on your phone.\n",
    "2. Generate checkerboard pattern to fit on your phone's screen (e.g. 5 rows and 8 columns) **(8 pts.)**\n",
    "3. Record calibration pattern using web-camera and your phone **(2 pts.)**"
   ]
  },
  {
   "cell_type": "markdown",
   "metadata": {},
   "source": [
    "**Rules for recording:** 10-20 images are enough, there should be no blurry images, the pattern have to be present in the frame, try to cover entire camera plane."
   ]
  },
  {
   "cell_type": "markdown",
   "metadata": {},
   "source": [
    "### Task 2. Do calibration"
   ]
  },
  {
   "cell_type": "markdown",
   "metadata": {},
   "source": [
    "1. Fill empty spaces in `2_camera_calibration.py` and run calibration **(5 pts.)**.\n",
    "2. You are breathtaking!\n",
    "\n",
    "<div style=\"text-align: center;\">\n",
    "    <img src=\"./utils/keanu.png\" width=\"500\" height=\"300\">\n",
    "</div>"
   ]
  },
  {
   "cell_type": "markdown",
   "metadata": {},
   "source": [
    "# Problem 2. Aruco marker detection (15 pts.)"
   ]
  },
  {
   "cell_type": "markdown",
   "metadata": {},
   "source": [
    "<div style=\"text-align: center;\">\n",
    "    <img src=\"./utils/4x4_1000-20.svg\" alt=\"Компьютер\" width=\"100\" height=\"100\">\n",
    "</div>"
   ]
  },
  {
   "cell_type": "markdown",
   "metadata": {},
   "source": [
    "### Task 1. Prepare marker"
   ]
  },
  {
   "cell_type": "markdown",
   "metadata": {},
   "source": [
    "1. Open aruco [generator](https://chev.me/arucogen/?ysclid=m7ksx70pa2128997178) on your phone.\n",
    "2. Choose any marker from standard dictionaries you like (e.g. 4x4, with ID 50).\n",
    "3. Do not put your phone with opened marker far away. "
   ]
  },
  {
   "cell_type": "markdown",
   "metadata": {},
   "source": [
    "### Task 2. Detect marker"
   ]
  },
  {
   "cell_type": "markdown",
   "metadata": {},
   "source": [
    "1. Detect aruco marker using `aruco.detectMarkers` in `3_detect_aruco.py` **(10 pts.)**.\n",
    "2. Visualize marker bounding box using `cv2.line` **(5 pts.)**.\n",
    "2. You are breathtaking!\n",
    "\n",
    "<div style=\"text-align: center;\">\n",
    "    <img src=\"./utils/keanu.png\" width=\"500\" height=\"300\">\n",
    "</div>"
   ]
  },
  {
   "cell_type": "markdown",
   "metadata": {},
   "source": [
    "# Problem 3. Simple AR (projective transformation) (20 pts.)"
   ]
  },
  {
   "cell_type": "markdown",
   "metadata": {},
   "source": [
    "<div style=\"text-align: center;\">\n",
    "    <img src=\"./utils/cube.gif\" width=\"200\" height=\"150\">\n",
    "</div>"
   ]
  },
  {
   "cell_type": "markdown",
   "metadata": {},
   "source": [
    "Make combination of previous results to project cube mode on aruco marker in `4_cube_aruco.py`.\n",
    "1. Add aruco marker detection using `aruco.detectMarkers` **(2 pts.)**.\n",
    "2. Estimate pose of the marker using `cv2.aruco.estimatePoseSingleMarkers` **(5 pts.)**.\n",
    "3. Find projective transformation for each point of the cube model using `cv2.projectPoints` **(10 pts.)**.\n",
    "4. Visualize cube on marker using `cv2.line` **(3 pts.)**."
   ]
  },
  {
   "cell_type": "markdown",
   "metadata": {},
   "source": [
    "# Problem 4. Camera feed on plane (25 pts.)"
   ]
  },
  {
   "cell_type": "markdown",
   "metadata": {},
   "source": [
    "<div style=\"text-align: center;\">\n",
    "    <img src=\"./utils/mx-brio.png\" width=\"270\" height=\"200\">\n",
    "</div>"
   ]
  },
  {
   "cell_type": "markdown",
   "metadata": {},
   "source": [
    "Use the same template as in `4_cube_aruco.py`, but now project real-time feed from web-camera on some plane (e.g. perpendicular to marker plane). \n",
    "1. Define some plane perpendicular to marker as 3d array.\n",
    "2. Project camera feed on plane with `cv2.projectPoints` **(7 pts.)**.\n",
    "3. Get transformation matrix with `cv2.getPerspectiveTransform` **(10 pts.)**.\n",
    "4. Get transformed image with `cv2.warpPerspective` and visualize with `cv2.addWeighted` **(8 pts.)**.\n",
    "5. Name your script `5_AR_video_plane.py`."
   ]
  },
  {
   "cell_type": "markdown",
   "metadata": {},
   "source": [
    "---"
   ]
  },
  {
   "cell_type": "markdown",
   "metadata": {},
   "source": [
    "**Instead of final word**: now you are ready for the simple assignment that is available [here](./HW.ipynb)."
   ]
  }
 ],
 "metadata": {
  "kernelspec": {
   "display_name": "nickl_AR",
   "language": "python",
   "name": "python3"
  },
  "language_info": {
   "codemirror_mode": {
    "name": "ipython",
    "version": 3
   },
   "file_extension": ".py",
   "mimetype": "text/x-python",
   "name": "python",
   "nbconvert_exporter": "python",
   "pygments_lexer": "ipython3",
   "version": "3.9.21"
  }
 },
 "nbformat": 4,
 "nbformat_minor": 2
}
