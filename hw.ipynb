{
 "cells": [
  {
   "cell_type": "markdown",
   "metadata": {},
   "source": [
    "Homework by **Your name**"
   ]
  },
  {
   "cell_type": "markdown",
   "metadata": {},
   "source": [
    "# Augmented reality on your knees 🏠"
   ]
  },
  {
   "cell_type": "markdown",
   "metadata": {},
   "source": [
    "---"
   ]
  },
  {
   "cell_type": "markdown",
   "metadata": {},
   "source": [
    "# Problem 1. Video on cube plane (10 pts.)"
   ]
  },
  {
   "cell_type": "markdown",
   "metadata": {},
   "source": [
    "<div style=\"text-align: center;\">\n",
    "    <img src=\"./utils/capybara.gif\" width=\"120\" height=\"100\">\n",
    "</div>"
   ]
  },
  {
   "cell_type": "markdown",
   "metadata": {},
   "source": [
    "Modify functionality of script `5_AR_video_plane.py` presented in seminar inside `6_AR_video_cube.py`.\n",
    "1. Add `mode` parameter that defines what will be visualized: cube on marker, video plane with video perpendicular to marker, video on specific side of cube **(2 pts.)**.\n",
    "2. Project cube points on frame using `cv2.projectPoints` **(3 pts.)**.\n",
    "2. Project any video you like on defined plane of the cube (e.g. front side) **(4 pts.)**.\n",
    "4. Visualize fps on frame **(1 pts.)**."
   ]
  },
  {
   "cell_type": "markdown",
   "metadata": {},
   "source": [
    "**Example output for `6_AR_video_cube.py`**\n",
    "<div style=\"text-align: center;\">\n",
    "    <video width=\"100%\" height=\"100%\" controls>\n",
    "        <source src=\"./utils/5_AR_video_plane_demo.mov\">\n",
    "    </video>\n",
    "    <p>Projected model of cube, video from file on side of the cube and real-time feed from web-camera on plane perpendicuar to marker plane</p>\n",
    "</div>"
   ]
  },
  {
   "cell_type": "markdown",
   "metadata": {},
   "source": [
    "**Requirements for the report**\n",
    "\n",
    "1. Record video with your solution.\n",
    "2. Send archive with your code, including calibration data and video to Canvas (simply copy repository with your solution, do not forget to put **Your name** in the beginning of each `.ipynb`)."
   ]
  }
 ],
 "metadata": {
  "kernelspec": {
   "display_name": "nickl_AR",
   "language": "python",
   "name": "python3"
  },
  "language_info": {
   "codemirror_mode": {
    "name": "ipython",
    "version": 3
   },
   "file_extension": ".py",
   "mimetype": "text/x-python",
   "name": "python",
   "nbconvert_exporter": "python",
   "pygments_lexer": "ipython3",
   "version": "3.9.21"
  }
 },
 "nbformat": 4,
 "nbformat_minor": 2
}
